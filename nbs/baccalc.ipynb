{
 "cells": [
  {
   "cell_type": "markdown",
   "metadata": {},
   "source": [
    "<h3><center>Grupo de estudos <a href=\"https://pedrosiracusa.github.io/BIOS\" target=\"_blank\">BIOS</a></center></h3>\n",
    "<h1><center>Programando em Python</center><center><small>Construindo uma Calculadora de Bactérias</small></center></h1>\n",
    "<h3><center>Nível: Iniciante absoluto</center></h3>\n",
    "<h4><center>Data: 23/03/2018</center></h4>\n",
    "<h4><center>Tempo estimado: 30 minutos</center></h4>\n",
    "<h4><center>Autor: <a href=\"https://pedrosiracusa.github.io\" target=\"_blank\">Pedro C. de Siracusa</a></center></h4>\n"
   ]
  },
  {
   "cell_type": "markdown",
   "metadata": {},
   "source": [
    "#### Uma versão '*live*' deste **notebook** está disponível <a href=\"https://mybinder.org/v2/gh/pedrosiracusa/bios/gh-pages?filepath=notebooks%2Fbaccalc.ipynb\" target=\"_blank\">aqui</a>."
   ]
  },
  {
   "cell_type": "markdown",
   "metadata": {},
   "source": [
    "### Olá BIOS!\n",
    "\n",
    "Este é o primeiro notebook que posto para o grupo de estudos <a href=\"https://pedrosiracusa.github.io/BIOS\" target=\"_blank\">BIOS</a>, como um incentivo para quem quiser começar no mundo da **programação** e **análise de dados** com  a linguagem <a href=\"https://www.python.org/\" target=\"_blank\">*Python*</a>. \n",
    "Ao longo do tempo farei mais destas postagens em forma de <a href=\"http://jupyter.org/\" target=\"_blank\">Jupyter Notebooks</a>, explicando diversos aspectos da linguagem e sobre como ela pode ser aplicada para análise de dados, especificamente no campo da biodiversidade. "
   ]
  },
  {
   "cell_type": "markdown",
   "metadata": {},
   "source": [
    "Porém hoje começaremos com o básico! Vou mostrar algumas das construções mais fundamentais da linguagem, como **tipos**, **operadores**, **funções** e **variáveis**.\n",
    "Você pode acompanhar, mexer e executar o código acessando esta <a href=\"https://mybinder.org/v2/gh/pedrosiracusa/bios/gh-pages?filepath=notebooks%2Fbaccalc.ipynb\" target=\"_blank\">versão *live*</a> do notebook. Experimente!!"
   ]
  },
  {
   "cell_type": "markdown",
   "metadata": {},
   "source": [
    "##### Conteúdos\n",
    "1. [Tipos](#1.-Tipos)\n",
    "2. [Operadores](#2.-Operadores)\n",
    "3. [Funções](#3.-Funções)\n",
    "4. [Construindo a calculadora bacteriana](#4.-Construindo-a-calculadora-bacteriana)\n",
    "5. [Avaliando o modelo](#5.-Avaliando-o-modelo)"
   ]
  },
  {
   "cell_type": "markdown",
   "metadata": {},
   "source": [
    "##### Contextualização"
   ]
  },
  {
   "cell_type": "markdown",
   "metadata": {},
   "source": [
    "Vamos construir uma calculadora que nos permitirá estimar o tamanho populacional de bactérias, usando um **modelo de crescimento exponencial**. \n",
    "O tempo médio que estas bactérias levam para se reproduzir por fissão binária - ou tempo de geração - é de 20 minutos (ou seja, a bactéria se divide a cada 20 minutos). Como construir um modelo para estimar o tamanho desta população no meio como resultado do tempo decorrido desde sua colonização?"
   ]
  },
  {
   "cell_type": "markdown",
   "metadata": {},
   "source": [
    "Diremos que o tamanho populacional será calculado em função do tempo e do tamanho da população colonizadora (número de bactérias no tempo zero). O modelo matemático é dado abaixo:"
   ]
  },
  {
   "cell_type": "markdown",
   "metadata": {},
   "source": [
    "<span id=\"exp1\"></span>\n",
    "\n",
    "$$ N(N_i, t) = N_i \\cdot 2^{\\frac{t}{g}} \\qquad \\qquad \\textit{( 1 )}$$ "
   ]
  },
  {
   "cell_type": "markdown",
   "metadata": {},
   "source": [
    "em que: \n",
    "* $N(N_i,t)$ é o tamanho populacional no tempo $t$, com uma população inicial de $N_i$ bactérias;\n",
    "* $N_i$ é o tamanho da população colonizadora;\n",
    "* $t$ é o tempo decorrido desde a colonização;\n",
    "* $g$ é o tempo de geração das bactérias ($20$ min)."
   ]
  },
  {
   "cell_type": "markdown",
   "metadata": {},
   "source": [
    "Nosso objetivo então é construir uma **função** *Python* que facilite este cálculo."
   ]
  },
  {
   "cell_type": "markdown",
   "metadata": {},
   "source": [
    "## 1. Tipos"
   ]
  },
  {
   "cell_type": "markdown",
   "metadata": {},
   "source": [
    "Antes de tudo, preciso dizer que linguagens de programação lidam com dados estruturados em **tipos** básicos. Cada linguagem tem um conjunto de tipos própria, e portanto não vale a pena neste momento apresentar todos os tipos em *Python*. Em vez disso, vou focar nos principais, que também existem em outras linguagens de programação. "
   ]
  },
  {
   "cell_type": "markdown",
   "metadata": {},
   "source": [
    "* **String**: Serve para armazenar dados em forma de texto;\n",
    "* **Integer** (ou inteiro): Armazena valores numéricos inteiros, ou seja, sem casas decimais;\n",
    "* **Float** (ou ponto flutuante): Armazena valores numéricos inteiros, ou seja, com casas decimais;\n",
    "* **Boolean** (ou booleano): Armazena valores binários, `True` ou `False`."
   ]
  },
  {
   "cell_type": "markdown",
   "metadata": {},
   "source": [
    "Vejamos exemplos de cada tipo:"
   ]
  },
  {
   "cell_type": "markdown",
   "metadata": {},
   "source": [
    "```python\n",
    "String (str): \"Esta é uma string (texto)\"\n",
    "Integer (int): 42\n",
    "Float (float): 42.56\n",
    "Boolean (bool): True ou False\n",
    "```"
   ]
  },
  {
   "cell_type": "markdown",
   "metadata": {},
   "source": [
    "**Obs:** Em *Python* o tipo \"caractere\" (ou `char`) não existe! Representamos caracteres como strings de comprimento 1:`\"c\"`"
   ]
  },
  {
   "cell_type": "markdown",
   "metadata": {},
   "source": [
    "A função `type` é nativa do *Python*, e permite descobrir o tipo de um determinado **valor**. Perceba que os parênteses depois do nome da função servem para dizer que queremos executá-la passando como parâmetro determinado valor (que vai entre os parênteses)."
   ]
  },
  {
   "cell_type": "markdown",
   "metadata": {},
   "source": [
    "> **obs:** no jupyter notebook você pode executar uma **célula de código** (as que têm um `In []` ao lado) usando o comando `ctrl+ENTER`. Você pode alterar o código na célula apertando `ENTER`, o que faz a célula entrar em **modo de edição** (contorno verde). Para sair do modo de edição e entrar no **modo de comando** você pode apertar `ESC` ou simplesmente executar a célula. Veja mais detalhes sobre o funcionamento dos notebooks <a href=\"https://s3.amazonaws.com/assets.datacamp.com/blog_assets/Jupyter_Notebook_Cheat_Sheet.pdf\" target=\"_blank\">aqui</a>."
   ]
  },
  {
   "cell_type": "code",
   "execution_count": 1,
   "metadata": {},
   "outputs": [
    {
     "data": {
      "text/plain": [
       "int"
      ]
     },
     "execution_count": 1,
     "metadata": {},
     "output_type": "execute_result"
    }
   ],
   "source": [
    "type(5)"
   ]
  },
  {
   "cell_type": "code",
   "execution_count": 2,
   "metadata": {},
   "outputs": [
    {
     "data": {
      "text/plain": [
       "float"
      ]
     },
     "execution_count": 2,
     "metadata": {},
     "output_type": "execute_result"
    }
   ],
   "source": [
    "type(43.78)"
   ]
  },
  {
   "cell_type": "code",
   "execution_count": 3,
   "metadata": {},
   "outputs": [
    {
     "data": {
      "text/plain": [
       "str"
      ]
     },
     "execution_count": 3,
     "metadata": {},
     "output_type": "execute_result"
    }
   ],
   "source": [
    "type(\"Olá, BIOS\")"
   ]
  },
  {
   "cell_type": "code",
   "execution_count": 4,
   "metadata": {},
   "outputs": [
    {
     "data": {
      "text/plain": [
       "bool"
      ]
     },
     "execution_count": 4,
     "metadata": {},
     "output_type": "execute_result"
    }
   ],
   "source": [
    "type(False)"
   ]
  },
  {
   "cell_type": "markdown",
   "metadata": {},
   "source": [
    "## 2. Operadores"
   ]
  },
  {
   "cell_type": "markdown",
   "metadata": {},
   "source": [
    "Operadores são construções da linguagem que permitem computar valores a partir da combinação de outros. Aqui veremos apenas alguns **operadores numéricos**. Um bom exemplo é o operador de soma (`+`), que soma um número à sua esquerda a outro à sua direita: "
   ]
  },
  {
   "cell_type": "markdown",
   "metadata": {},
   "source": [
    "Operador de soma (`+`)"
   ]
  },
  {
   "cell_type": "code",
   "execution_count": 5,
   "metadata": {},
   "outputs": [
    {
     "data": {
      "text/plain": [
       "18"
      ]
     },
     "execution_count": 5,
     "metadata": {},
     "output_type": "execute_result"
    }
   ],
   "source": [
    "13 + 5"
   ]
  },
  {
   "cell_type": "markdown",
   "metadata": {},
   "source": [
    "O *Python* também fornece outros operadores matemáticos:"
   ]
  },
  {
   "cell_type": "markdown",
   "metadata": {},
   "source": [
    "Operador de subtração (`-`)"
   ]
  },
  {
   "cell_type": "code",
   "execution_count": 6,
   "metadata": {},
   "outputs": [
    {
     "data": {
      "text/plain": [
       "8"
      ]
     },
     "execution_count": 6,
     "metadata": {},
     "output_type": "execute_result"
    }
   ],
   "source": [
    "13 - 5"
   ]
  },
  {
   "cell_type": "markdown",
   "metadata": {},
   "source": [
    "Operador de multiplicação (`*`)"
   ]
  },
  {
   "cell_type": "code",
   "execution_count": 7,
   "metadata": {},
   "outputs": [
    {
     "data": {
      "text/plain": [
       "65"
      ]
     },
     "execution_count": 7,
     "metadata": {},
     "output_type": "execute_result"
    }
   ],
   "source": [
    "13 * 5"
   ]
  },
  {
   "cell_type": "markdown",
   "metadata": {},
   "source": [
    "Operador de divisão (`/`)"
   ]
  },
  {
   "cell_type": "code",
   "execution_count": 8,
   "metadata": {},
   "outputs": [
    {
     "data": {
      "text/plain": [
       "2.6"
      ]
     },
     "execution_count": 8,
     "metadata": {},
     "output_type": "execute_result"
    }
   ],
   "source": [
    "13 / 5"
   ]
  },
  {
   "cell_type": "markdown",
   "metadata": {},
   "source": [
    "Operador de exponenciação (`**`)"
   ]
  },
  {
   "cell_type": "code",
   "execution_count": 9,
   "metadata": {},
   "outputs": [
    {
     "data": {
      "text/plain": [
       "16"
      ]
     },
     "execution_count": 9,
     "metadata": {},
     "output_type": "execute_result"
    }
   ],
   "source": [
    "2**4"
   ]
  },
  {
   "cell_type": "markdown",
   "metadata": {},
   "source": [
    "Podemos construir **expressões** mais complexas usando mais de um operador. Veja:"
   ]
  },
  {
   "cell_type": "markdown",
   "metadata": {},
   "source": [
    "$$\\frac{(13+5)}{(3\\times3)}$$"
   ]
  },
  {
   "cell_type": "code",
   "execution_count": 10,
   "metadata": {},
   "outputs": [
    {
     "data": {
      "text/plain": [
       "2.0"
      ]
     },
     "execution_count": 10,
     "metadata": {},
     "output_type": "execute_result"
    }
   ],
   "source": [
    "(13+5) / (3*3)"
   ]
  },
  {
   "cell_type": "markdown",
   "metadata": {},
   "source": [
    "Mas perceba que o *Python* usa as mesmas regras de precedência da matemática! Isso significa dizer que a multiplicação e divisão têm prioridae sobre operações de adição e subtração, por exemplo."
   ]
  },
  {
   "cell_type": "markdown",
   "metadata": {},
   "source": [
    "Sendo assim, se esquecermos de colocar os parênteses apropriadamente, teremos um erro de cálculo:"
   ]
  },
  {
   "cell_type": "code",
   "execution_count": 11,
   "metadata": {},
   "outputs": [
    {
     "data": {
      "text/plain": [
       "18.0"
      ]
     },
     "execution_count": 11,
     "metadata": {},
     "output_type": "execute_result"
    }
   ],
   "source": [
    "13+5 / 3*3"
   ]
  },
  {
   "cell_type": "markdown",
   "metadata": {},
   "source": [
    "## 3. Funções"
   ]
  },
  {
   "cell_type": "markdown",
   "metadata": {},
   "source": [
    "Podemos definir nossas próprias funções de forma muito fácil com o *Python*. Usamos a seguinte sintaxe:"
   ]
  },
  {
   "cell_type": "code",
   "execution_count": 12,
   "metadata": {},
   "outputs": [],
   "source": [
    "def funcSoma( a, b ):\n",
    "    return a + b"
   ]
  },
  {
   "cell_type": "markdown",
   "metadata": {},
   "source": [
    "Na célula acima acabamos de definir uma função super simples, que faz a soma de dois números.\n",
    "Vou explicar cada parte...\n",
    "\n",
    "* A palavra `def` serve para dizer ao *Python* que iremos definir uma função na linha;\n",
    "* A palavra `funcSoma` é o nome da função que estamos definindo (ele será usado a seguir para executar a função);\n",
    "* Os parênteses indicam quais os **parâmetros** que iremos fornecer à função. Os parâmetros são *placeholders* que representam valores que passaremos à função no momento de executá-la. No caso acima, estamos fornecendo dois parâmetros: `a` e `b`;\n",
    "* Os dois pontos `:` indicam que o que virá a seguir será o **corpo** da função, onde o seu comportamento será detalhado. Tudo que vier a partir de agora e que estiver dentro do \"bloco lógico\" da função terá que ter aquele espaçamento em relação à margem esquerda. Chamamos este espaçamento de **indentação**;\n",
    "* A palavra `return` indica o que será retornado pela função. No nosso caso estamos simplesmente retornando o resultado da operação `a+b`."
   ]
  },
  {
   "cell_type": "markdown",
   "metadata": {},
   "source": [
    "Vamos executar a função para ver se ela funciona? Para isso basta *(i)* escrever seu nome, *(ii)* abrir parênteses, *(iii)* colocar os valores dos parâmetros, separados por vírgula; e *(iv)* fechar parênteses."
   ]
  },
  {
   "cell_type": "code",
   "execution_count": 13,
   "metadata": {},
   "outputs": [
    {
     "data": {
      "text/plain": [
       "18"
      ]
     },
     "execution_count": 13,
     "metadata": {},
     "output_type": "execute_result"
    }
   ],
   "source": [
    "funcSoma( 13, 5 )"
   ]
  },
  {
   "cell_type": "markdown",
   "metadata": {},
   "source": [
    "## 4. Construindo a calculadora bacteriana"
   ]
  },
  {
   "cell_type": "markdown",
   "metadata": {},
   "source": [
    "Com este pouco que vimos já conseguiremos construir a calculadora bacteriana!! O jeito mais intuitivo de representar uma função matemática é como uma função *Python*!"
   ]
  },
  {
   "cell_type": "markdown",
   "metadata": {},
   "source": [
    "* Vamos chamar nossa função de `bacCalc`;\n",
    "* Ela recebe o tamanho da população colonizadora `n_i` e o tempo decorrido `t`;\n",
    "* O tempo de geração `g` será sempre $20$ minutos;\n",
    "* Ela deve calcular e **retornar** a expressão $N_i \\cdot 2^{\\frac{t}{g}}$ [ <a href=\"#exp1\">expressão 1</a> ]."
   ]
  },
  {
   "cell_type": "markdown",
   "metadata": {},
   "source": [
    "Como fazer para codificar o tempo de geração? Afinal, como ele será sempre de $20$ minutos, não faz sentido que seja um parâmetro para nossa função. Em vez disso ele será uma **variável global**."
   ]
  },
  {
   "cell_type": "markdown",
   "metadata": {},
   "source": [
    "Definimos uma variável global usando o **operador de atribuição** (`=`). Este operador associa um valor (à sua direita) a uma váriavel (à sua esquerda). Vamos então associar à variável `g` o valor `20`:"
   ]
  },
  {
   "cell_type": "code",
   "execution_count": 14,
   "metadata": {},
   "outputs": [],
   "source": [
    "g = 20"
   ]
  },
  {
   "cell_type": "markdown",
   "metadata": {},
   "source": [
    "Pronto! Agora podemos acessar o valor de `g` em qualquer lugar no nosso programa, pois é uma variável global:"
   ]
  },
  {
   "cell_type": "code",
   "execution_count": 15,
   "metadata": {},
   "outputs": [
    {
     "data": {
      "text/plain": [
       "20"
      ]
     },
     "execution_count": 15,
     "metadata": {},
     "output_type": "execute_result"
    }
   ],
   "source": [
    "g"
   ]
  },
  {
   "cell_type": "markdown",
   "metadata": {},
   "source": [
    "O valor de `g` pode ser inclusive acessado de dentro de uma função!! Então, mãos à obra!"
   ]
  },
  {
   "cell_type": "code",
   "execution_count": 16,
   "metadata": {},
   "outputs": [],
   "source": [
    "def bacCalc(n_i, t):\n",
    "    n = n_i * 2**(t/g)\n",
    "    return n"
   ]
  },
  {
   "cell_type": "markdown",
   "metadata": {},
   "source": [
    "Na função acima fizemos basicamente duas coisas. Primeiro computamos a expressão do crescimento bacteriano (<a href=\"#exp1\">expressão *1*</a>) e então **atribuímos o resultado** à variável `n`. Em seguida, retornamos o valor que está atribuído a `n`."
   ]
  },
  {
   "cell_type": "markdown",
   "metadata": {},
   "source": [
    "## 5. Avaliando o modelo"
   ]
  },
  {
   "cell_type": "markdown",
   "metadata": {},
   "source": [
    "Vamos agora avaliar se nossa calculadora está funcionando corretamente. \n",
    "Vamos considerar que começamos com uma população de $2$ bactérias. Após decorridos $20$ minutos esperaríamos que a população se dividisse, originando um total de $4$ bactérias."
   ]
  },
  {
   "cell_type": "code",
   "execution_count": 17,
   "metadata": {},
   "outputs": [
    {
     "data": {
      "text/plain": [
       "4.0"
      ]
     },
     "execution_count": 17,
     "metadata": {},
     "output_type": "execute_result"
    }
   ],
   "source": [
    "bacCalc(2,20)"
   ]
  },
  {
   "cell_type": "markdown",
   "metadata": {},
   "source": [
    "Agora, e se passassem $40$ minutos, ou dois tempos de geração? Esperaríamos $8$ bactérias, certo?"
   ]
  },
  {
   "cell_type": "code",
   "execution_count": 18,
   "metadata": {},
   "outputs": [
    {
     "data": {
      "text/plain": [
       "8.0"
      ]
     },
     "execution_count": 18,
     "metadata": {},
     "output_type": "execute_result"
    }
   ],
   "source": [
    "bacCalc(2,40)"
   ]
  },
  {
   "cell_type": "markdown",
   "metadata": {},
   "source": [
    "E se, em vez de $2$, tivéssemos começado com uma população de $4$ bactérias? Esperaríamos $16$ bactérias após dois tempos de geração ($40$ minutos)!"
   ]
  },
  {
   "cell_type": "code",
   "execution_count": 19,
   "metadata": {},
   "outputs": [
    {
     "data": {
      "text/plain": [
       "16.0"
      ]
     },
     "execution_count": 19,
     "metadata": {},
     "output_type": "execute_result"
    }
   ],
   "source": [
    "bacCalc(4,40)"
   ]
  },
  {
   "cell_type": "markdown",
   "metadata": {},
   "source": [
    "Mas estes cálculos são fáceis de fazer de cabeça! A nossa calculadora seria mesmo útil para calcular populações maiores! Por exemplo, se começássemos com $78$ bactérias e esperássemos $143$ minutos, quantas bactérias teríamos?"
   ]
  },
  {
   "cell_type": "code",
   "execution_count": 20,
   "metadata": {},
   "outputs": [
    {
     "data": {
      "text/plain": [
       "11077.941609125368"
      ]
     },
     "execution_count": 20,
     "metadata": {},
     "output_type": "execute_result"
    }
   ],
   "source": [
    "bacCalc(78,143)"
   ]
  },
  {
   "cell_type": "markdown",
   "metadata": {},
   "source": [
    "Seria mais útil ainda se pudéssemos replicar este cálculo para uma planilha de dados inteira!! Este é o conceito dos **loops**, em que um pedaço de código é executado repetidas vezes (e computadores fazer isso de forma extremamente rápida). \n",
    "Mas este assunto fica para um próximo notebook."
   ]
  }
 ],
 "metadata": {
  "kernelspec": {
   "display_name": "Python 3",
   "language": "python",
   "name": "python3"
  },
  "language_info": {
   "codemirror_mode": {
    "name": "ipython",
    "version": 3
   },
   "file_extension": ".py",
   "mimetype": "text/x-python",
   "name": "python",
   "nbconvert_exporter": "python",
   "pygments_lexer": "ipython3",
   "version": "3.6.4"
  }
 },
 "nbformat": 4,
 "nbformat_minor": 2
}
